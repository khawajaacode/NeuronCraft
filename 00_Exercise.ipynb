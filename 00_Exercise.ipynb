{
  "nbformat": 4,
  "nbformat_minor": 0,
  "metadata": {
    "colab": {
      "provenance": [],
      "authorship_tag": "ABX9TyMnm+bguXjAAO7F8wCQnYR1",
      "include_colab_link": true
    },
    "kernelspec": {
      "name": "python3",
      "display_name": "Python 3"
    },
    "language_info": {
      "name": "python"
    }
  },
  "cells": [
    {
      "cell_type": "markdown",
      "metadata": {
        "id": "view-in-github",
        "colab_type": "text"
      },
      "source": [
        "<a href=\"https://colab.research.google.com/github/khawajaacode/NeuronCraft/blob/main/00_Exercise.ipynb\" target=\"_parent\"><img src=\"https://colab.research.google.com/assets/colab-badge.svg\" alt=\"Open In Colab\"/></a>"
      ]
    },
    {
      "cell_type": "code",
      "execution_count": 24,
      "metadata": {
        "colab": {
          "base_uri": "https://localhost:8080/"
        },
        "id": "8qKZOKGWuA5M",
        "outputId": "163811c1-94de-4fda-9233-6e95e1116e3b"
      },
      "outputs": [
        {
          "output_type": "stream",
          "name": "stdout",
          "text": [
            "2.17.0\n"
          ]
        }
      ],
      "source": [
        "import tensorflow as tf\n",
        "print(tf.__version__)\n",
        "\n",
        "\n",
        "\n"
      ]
    },
    {
      "cell_type": "code",
      "source": [
        "scalar = tf.constant(8)\n",
        "\n",
        "scalar, scalar.ndim, tf.size, tf.shape, tf.rank"
      ],
      "metadata": {
        "colab": {
          "base_uri": "https://localhost:8080/"
        },
        "id": "RbAPWECTuYkR",
        "outputId": "9a62f8ad-caef-493b-dbea-baa6b9c58b14"
      },
      "execution_count": 25,
      "outputs": [
        {
          "output_type": "execute_result",
          "data": {
            "text/plain": [
              "(<tf.Tensor: shape=(), dtype=int32, numpy=8>,\n",
              " 0,\n",
              " <function tensorflow.python.ops.array_ops.size_v2(input, out_type=None, name=None)>,\n",
              " <function tensorflow.python.ops.array_ops.shape_v2(input, out_type=None, name=None)>,\n",
              " <function tensorflow.python.ops.array_ops.rank(input, name=None)>)"
            ]
          },
          "metadata": {},
          "execution_count": 25
        }
      ]
    },
    {
      "cell_type": "code",
      "source": [
        "vector = tf.constant([29,3])\n",
        "vector, vector.ndim, vector.shape"
      ],
      "metadata": {
        "colab": {
          "base_uri": "https://localhost:8080/"
        },
        "id": "MQwYYws5ultO",
        "outputId": "1056ea72-f4c3-4a5b-fa1c-560e69e5a01b"
      },
      "execution_count": 29,
      "outputs": [
        {
          "output_type": "execute_result",
          "data": {
            "text/plain": [
              "(<tf.Tensor: shape=(2,), dtype=int32, numpy=array([29,  3], dtype=int32)>,\n",
              " 1,\n",
              " TensorShape([2]))"
            ]
          },
          "metadata": {},
          "execution_count": 29
        }
      ]
    },
    {
      "cell_type": "code",
      "source": [
        "matrix = tf.constant([[10,7],\n",
        "                      [9,1],\n",
        "                      [32, 8]])\n",
        "matrix, matrix.ndim, tf.size(matrix), tf.shape(matrix)"
      ],
      "metadata": {
        "colab": {
          "base_uri": "https://localhost:8080/"
        },
        "id": "APlUMl-gutx9",
        "outputId": "57a6216f-7258-490a-9662-1dcc173ac05c"
      },
      "execution_count": 27,
      "outputs": [
        {
          "output_type": "execute_result",
          "data": {
            "text/plain": [
              "(<tf.Tensor: shape=(3, 2), dtype=int32, numpy=\n",
              " array([[10,  7],\n",
              "        [ 9,  1],\n",
              "        [32,  8]], dtype=int32)>,\n",
              " 2,\n",
              " <tf.Tensor: shape=(), dtype=int32, numpy=6>,\n",
              " <tf.Tensor: shape=(2,), dtype=int32, numpy=array([3, 2], dtype=int32)>)"
            ]
          },
          "metadata": {},
          "execution_count": 27
        }
      ]
    },
    {
      "cell_type": "code",
      "source": [
        "tensor =   tf.constant([[32,33,23],\n",
        "                        [10,7,3]])\n",
        "tensor"
      ],
      "metadata": {
        "colab": {
          "base_uri": "https://localhost:8080/"
        },
        "id": "K6OhGmTKvQaw",
        "outputId": "4785dcbc-6946-40c1-8a44-02945977d339"
      },
      "execution_count": 30,
      "outputs": [
        {
          "output_type": "execute_result",
          "data": {
            "text/plain": [
              "<tf.Tensor: shape=(2, 3), dtype=int32, numpy=\n",
              "array([[32, 33, 23],\n",
              "       [10,  7,  3]], dtype=int32)>"
            ]
          },
          "metadata": {},
          "execution_count": 30
        }
      ]
    },
    {
      "cell_type": "code",
      "source": [
        "rank_1_tensor = tensor\n",
        "print(rank_1_tensor)"
      ],
      "metadata": {
        "colab": {
          "base_uri": "https://localhost:8080/"
        },
        "id": "a3u7UEGPxmF9",
        "outputId": "975000b1-9487-4719-e6e4-92a0cd513c7e"
      },
      "execution_count": 31,
      "outputs": [
        {
          "output_type": "stream",
          "name": "stdout",
          "text": [
            "tf.Tensor(\n",
            "[[32 33 23]\n",
            " [10  7  3]], shape=(2, 3), dtype=int32)\n"
          ]
        }
      ]
    },
    {
      "cell_type": "code",
      "source": [
        "tf.shape(tensor)"
      ],
      "metadata": {
        "colab": {
          "base_uri": "https://localhost:8080/"
        },
        "id": "PgI59pb1ysct",
        "outputId": "024d4eb9-96c1-4658-cd52-d4d032e95b1c"
      },
      "execution_count": 32,
      "outputs": [
        {
          "output_type": "execute_result",
          "data": {
            "text/plain": [
              "<tf.Tensor: shape=(2,), dtype=int32, numpy=array([2, 3], dtype=int32)>"
            ]
          },
          "metadata": {},
          "execution_count": 32
        }
      ]
    },
    {
      "cell_type": "code",
      "source": [
        "tf.size(tensor)"
      ],
      "metadata": {
        "colab": {
          "base_uri": "https://localhost:8080/"
        },
        "id": "ZfNVQ1DX3dEG",
        "outputId": "1438cb02-7333-4afb-dbcf-adb8ea9a2500"
      },
      "execution_count": 33,
      "outputs": [
        {
          "output_type": "execute_result",
          "data": {
            "text/plain": [
              "<tf.Tensor: shape=(), dtype=int32, numpy=6>"
            ]
          },
          "metadata": {},
          "execution_count": 33
        }
      ]
    },
    {
      "cell_type": "code",
      "source": [
        "tensor\n"
      ],
      "metadata": {
        "colab": {
          "base_uri": "https://localhost:8080/"
        },
        "id": "yW8EwH1F3jSH",
        "outputId": "c40e88fc-decf-4ec1-b2c7-b40b26796d1e"
      },
      "execution_count": 34,
      "outputs": [
        {
          "output_type": "execute_result",
          "data": {
            "text/plain": [
              "<tf.Tensor: shape=(2, 3), dtype=int32, numpy=\n",
              "array([[32, 33, 23],\n",
              "       [10,  7,  3]], dtype=int32)>"
            ]
          },
          "metadata": {},
          "execution_count": 34
        }
      ]
    },
    {
      "cell_type": "code",
      "source": [
        "tensor_1 = tf.random.Generator.from_seed(42)\n",
        "tensor_1 = tensor_1.normal(shape=(5,300))\n",
        "tensor_2 = tf.random.Generator.from_seed(40)\n",
        "tensor_2 = tensor_2.normal(shape=(5,300))\n",
        "\n",
        "tensor_1, tensor_2"
      ],
      "metadata": {
        "colab": {
          "base_uri": "https://localhost:8080/"
        },
        "id": "gzAfCgEg3kwm",
        "outputId": "f1ee0b55-188f-427d-eca0-63f1616ac453"
      },
      "execution_count": 38,
      "outputs": [
        {
          "output_type": "execute_result",
          "data": {
            "text/plain": [
              "(<tf.Tensor: shape=(5, 300), dtype=float32, numpy=\n",
              " array([[-0.7565803 , -0.06854702,  0.07595026, ..., -1.071834  ,\n",
              "         -1.0722276 , -0.00586287],\n",
              "        [-0.88051033, -0.32426047, -2.4847078 , ...,  0.16512105,\n",
              "          1.155565  , -0.10707551],\n",
              "        [-1.5306779 , -0.86202925, -0.16359143, ...,  0.34288085,\n",
              "          1.216793  , -1.24293   ],\n",
              "        [ 0.84324265, -0.23379943,  0.4276398 , ..., -1.0428714 ,\n",
              "         -0.73970354,  0.0177109 ],\n",
              "        [ 0.04888754, -0.66408694, -1.787366  , ...,  0.1947453 ,\n",
              "          0.5656089 ,  0.18439196]], dtype=float32)>,\n",
              " <tf.Tensor: shape=(5, 300), dtype=float32, numpy=\n",
              " array([[ 0.78953624,  0.53897345, -0.48535708, ..., -1.655111  ,\n",
              "          0.20270453, -0.05907417],\n",
              "        [-0.08876546, -0.2818856 , -1.2894468 , ..., -0.36720887,\n",
              "         -0.40844494, -0.9370698 ],\n",
              "        [-0.75371194, -1.7472465 , -0.26269418, ..., -2.465845  ,\n",
              "         -1.1038724 ,  0.5590708 ],\n",
              "        [-0.9807223 , -0.16120234,  1.0154027 , ...,  0.3698049 ,\n",
              "         -0.41299313,  0.9122452 ],\n",
              "        [-1.0661197 , -1.8173325 , -0.9018163 , ...,  0.1328415 ,\n",
              "         -0.00674214,  0.83872926]], dtype=float32)>)"
            ]
          },
          "metadata": {},
          "execution_count": 38
        }
      ]
    },
    {
      "cell_type": "code",
      "source": [],
      "metadata": {
        "id": "5V5oIS3v4_wp"
      },
      "execution_count": null,
      "outputs": []
    }
  ]
}